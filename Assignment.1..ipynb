{
 "cells": [
  {
   "cell_type": "markdown",
   "id": "e1463e50",
   "metadata": {},
   "source": [
    "##### step 1: create a list L1 = [1,2,3,4,5]\n",
    "\n",
    "##### step 2 : use L1 to make a list of tuples like below:"
   ]
  },
  {
   "cell_type": "code",
   "execution_count": 7,
   "id": "3a565ce7",
   "metadata": {},
   "outputs": [
    {
     "data": {
      "text/plain": [
       "[(1, 1), (2, 4), (3, 9), (4, 16), (5, 25)]"
      ]
     },
     "execution_count": 7,
     "metadata": {},
     "output_type": "execute_result"
    }
   ],
   "source": [
    "L1 = [1,2,3,4,5]\n",
    "L2=[]\n",
    "for i in L1:\n",
    "    d=(i,i**2)\n",
    "   \n",
    "    L2.append(d)\n",
    "L2"
   ]
  }
 ],
 "metadata": {
  "kernelspec": {
   "display_name": "Python 3 (ipykernel)",
   "language": "python",
   "name": "python3"
  },
  "language_info": {
   "codemirror_mode": {
    "name": "ipython",
    "version": 3
   },
   "file_extension": ".py",
   "mimetype": "text/x-python",
   "name": "python",
   "nbconvert_exporter": "python",
   "pygments_lexer": "ipython3",
   "version": "3.10.0"
  }
 },
 "nbformat": 4,
 "nbformat_minor": 5
}
